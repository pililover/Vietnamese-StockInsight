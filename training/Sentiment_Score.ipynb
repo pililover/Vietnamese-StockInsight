{
  "nbformat": 4,
  "nbformat_minor": 0,
  "metadata": {
    "colab": {
      "provenance": []
    },
    "kernelspec": {
      "name": "python3",
      "display_name": "Python 3"
    },
    "language_info": {
      "name": "python"
    }
  },
  "cells": [
    {
      "cell_type": "code",
      "source": [
        "from google.colab import drive\n",
        "drive.mount('/content/drive')"
      ],
      "metadata": {
        "colab": {
          "base_uri": "https://localhost:8080/"
        },
        "id": "1VzHC_FGPl4N",
        "outputId": "672a0cbf-f6ef-4cf4-d705-cf56a50785d5"
      },
      "execution_count": 2,
      "outputs": [
        {
          "output_type": "stream",
          "name": "stdout",
          "text": [
            "Mounted at /content/drive\n"
          ]
        }
      ]
    },
    {
      "cell_type": "markdown",
      "source": [
        "# Clean entity"
      ],
      "metadata": {
        "id": "Iu4wd2hn__IT"
      }
    },
    {
      "cell_type": "code",
      "source": [
        "def clean_entities(db_path: str) -> None:\n",
        "    \"\"\"\n",
        "    Dọn bảng Entities trong CSDL SQLite:\n",
        "    1. Xoá entity_text < 2 ký tự\n",
        "    2. Xoá thực thể không phải 'STOCK' (confidence <> 'high'\n",
        "       & không có ≥3 IN HOA liên tiếp & chỉ 1 từ)\n",
        "    \"\"\"\n",
        "    with sqlite3.connect(db_path) as conn:\n",
        "        cur = conn.cursor()\n",
        "\n",
        "        # ------ Thống kê trước khi xoá ------\n",
        "        total_before = cur.execute(\"SELECT COUNT(*) FROM Entities\").fetchone()[0]\n",
        "        print(f\"Tổng số hàng ban đầu: {total_before:,}\")\n",
        "\n",
        "        # 1) Xoá entity_text ngắn < 2 ký tự\n",
        "        cur.execute(\"\"\"\n",
        "            DELETE FROM Entities\n",
        "            WHERE length(trim(entity_text)) < 2;\n",
        "        \"\"\")\n",
        "        print(f\"Đã xoá (entity_text < 2 ký tự): {conn.total_changes:,}\")\n",
        "\n",
        "        # 2) Xoá thực thể không phải STOCK\n",
        "        cur.execute(\"\"\"\n",
        "            DELETE FROM Entities\n",
        "            WHERE confidence <> 'high'                      -- confidence khác 'high'\n",
        "              AND entity_text NOT GLOB '*[A-Z][A-Z][A-Z]*' -- KHÔNG có ≥3 in hoa liên tiếp\n",
        "              AND entity_text NOT LIKE '% %';               -- KHÔNG có khoảng trắng (chỉ 1 từ)\n",
        "        \"\"\")\n",
        "        print(f\"Đã xoá (không phải STOCK): {conn.total_changes - 1:,}\")  # trừ lần xoá trước\n",
        "\n",
        "        # ------ Thống kê sau khi xoá ------\n",
        "        total_after = cur.execute(\"SELECT COUNT(*) FROM Entities\").fetchone()[0]\n",
        "        print(f\"Tổng số hàng còn lại: {total_after:,}\")"
      ],
      "metadata": {
        "id": "WVUxJXrEAF4Z"
      },
      "execution_count": 9,
      "outputs": []
    },
    {
      "cell_type": "code",
      "source": [
        "path_db = '/content/drive/MyDrive/statlearning/KB/stock_insights.db'\n",
        "clean_entities(path_db)"
      ],
      "metadata": {
        "colab": {
          "base_uri": "https://localhost:8080/"
        },
        "id": "k00fPmnMAhB8",
        "outputId": "c17dc139-248f-446c-a288-fb58b5f4eda7"
      },
      "execution_count": 10,
      "outputs": [
        {
          "output_type": "stream",
          "name": "stdout",
          "text": [
            "Tổng số hàng ban đầu: 369,436\n",
            "Đã xoá (entity_text < 2 ký tự): 9\n",
            "Đã xoá (không phải STOCK): 221,173\n",
            "Tổng số hàng còn lại: 148,262\n"
          ]
        }
      ]
    },
    {
      "cell_type": "markdown",
      "source": [
        "# Khảo sát các entity"
      ],
      "metadata": {
        "id": "rkyktXcf-E63"
      }
    },
    {
      "cell_type": "code",
      "source": [
        "import sqlite3, pandas as pd\n",
        "\n",
        "conn = sqlite3.connect('/content/drive/MyDrive/statlearning/KB/stock_insights.db')\n",
        "query = \"\"\"\n",
        "SELECT entity_type, COUNT(*) AS total\n",
        "FROM   Entities\n",
        "WHERE  entity_type IN ('EVENT','RISK','PRICE_ACTION')\n",
        "GROUP  BY entity_type;\n",
        "\"\"\"\n",
        "df = pd.read_sql_query(query, conn)\n",
        "print(df)\n",
        "conn.close()\n"
      ],
      "metadata": {
        "colab": {
          "base_uri": "https://localhost:8080/"
        },
        "id": "81kfk6mR-Eet",
        "outputId": "fc16957b-4210-4917-cce3-dcaca22bc185"
      },
      "execution_count": 11,
      "outputs": [
        {
          "output_type": "stream",
          "name": "stdout",
          "text": [
            "    entity_type  total\n",
            "0         EVENT   1628\n",
            "1  PRICE_ACTION   5837\n",
            "2          RISK    618\n"
          ]
        }
      ]
    },
    {
      "cell_type": "code",
      "source": [
        "conn = sqlite3.connect(path_db)\n",
        "types = ['EVENT', 'RISK', 'PRICE_ACTION']\n",
        "lists = {}\n",
        "for t in types:\n",
        "    df = pd.read_sql_query(\n",
        "        \"SELECT DISTINCT entity_text FROM Entities WHERE entity_type=? ORDER BY entity_text\",\n",
        "        conn, params=[t]\n",
        "    )\n",
        "    lists[t] = df['entity_text'].tolist()"
      ],
      "metadata": {
        "id": "Z2v4HRce-996"
      },
      "execution_count": 12,
      "outputs": []
    },
    {
      "cell_type": "code",
      "source": [
        "from pathlib import Path\n",
        "\n",
        "out_dir = Path(\"entity_lists\")      # thư mục chứa file xuất\n",
        "out_dir.mkdir(exist_ok=True)\n",
        "\n",
        "for etype, items in lists.items():\n",
        "    file_path = out_dir / f\"{etype.lower()}_list.txt\"\n",
        "    with open(file_path, \"w\", encoding=\"utf-8\") as f:\n",
        "        f.write(\"\\n\".join(items))   # mỗi entity một dòng\n",
        "    print(f\"Đã tạo {file_path} ({len(items):,} dòng)\")\n"
      ],
      "metadata": {
        "colab": {
          "base_uri": "https://localhost:8080/"
        },
        "id": "ULgY35sxELiA",
        "outputId": "be799991-0133-434b-884b-d7451f050fbd"
      },
      "execution_count": 16,
      "outputs": [
        {
          "output_type": "stream",
          "name": "stdout",
          "text": [
            "Đã tạo entity_lists/event_list.txt (1,229 dòng)\n",
            "Đã tạo entity_lists/risk_list.txt (442 dòng)\n",
            "Đã tạo entity_lists/price_action_list.txt (3,292 dòng)\n"
          ]
        }
      ]
    },
    {
      "cell_type": "markdown",
      "source": [
        "# Tính Sentiment Score và gán nhãn"
      ],
      "metadata": {
        "id": "sgjCsgmrIPVW"
      }
    },
    {
      "cell_type": "code",
      "source": [
        "path_signal = 'signal_dict_rescored.json'"
      ],
      "metadata": {
        "id": "93AA-We7IVn3"
      },
      "execution_count": 42,
      "outputs": []
    },
    {
      "cell_type": "code",
      "source": [
        "import json\n",
        "with open(path_signal, \"r\", encoding=\"utf-8\") as f:\n",
        "    signal_dict: dict[str, float] = json.load(f)"
      ],
      "metadata": {
        "id": "YnwzWTZDIbGp"
      },
      "execution_count": 43,
      "outputs": []
    },
    {
      "cell_type": "code",
      "source": [
        "len(signal_dict)"
      ],
      "metadata": {
        "colab": {
          "base_uri": "https://localhost:8080/"
        },
        "id": "5U6ZAU8DIn-8",
        "outputId": "663cc139-cc5a-4811-cecb-ea8233e17f28"
      },
      "execution_count": 44,
      "outputs": [
        {
          "output_type": "execute_result",
          "data": {
            "text/plain": [
              "1217"
            ]
          },
          "metadata": {},
          "execution_count": 44
        }
      ]
    },
    {
      "cell_type": "code",
      "source": [
        "RISK_EXTRA   = [\"bất thành\",\"không khớp\",\"cảnh báo\",\"thu hồi\",\"hủy\",\"điều tra\",\"trì hoãn\"]\n",
        "for word in RISK_EXTRA:\n",
        "    signal_dict[word] = -1.0"
      ],
      "metadata": {
        "id": "pWucXfZHPEDF"
      },
      "execution_count": 45,
      "outputs": []
    },
    {
      "cell_type": "code",
      "source": [
        "def score_sentence_v2(text):\n",
        "    txt = text.lower()\n",
        "    score = 0.0\n",
        "    for key, w in signal_dict.items():\n",
        "        if key in txt:\n",
        "            # (a) phủ định trực tiếp\n",
        "            if re.search(r\"\\bkhông\\s+\" + re.escape(key), txt) or \\\n",
        "               re.search(r\"\\bbất\\s+\" + re.escape(key.split()[0]), txt):\n",
        "                w = -abs(w)             # đảo dấu\n",
        "            score += w\n",
        "    # (b) cap điểm tuyệt đối\n",
        "    if score > 4:  score = 4\n",
        "    if score < -4: score = -4\n",
        "    return score"
      ],
      "metadata": {
        "id": "jxVzNE6xItGe"
      },
      "execution_count": 46,
      "outputs": []
    },
    {
      "cell_type": "code",
      "source": [
        "def label_from_score(score: float, pos_th=+0.2, neg_th=-0.2) -> str:\n",
        "    if score > pos_th:\n",
        "        return \"positive\"\n",
        "    elif score < neg_th:\n",
        "        return \"negative\"\n",
        "    else:\n",
        "        return \"neutral\""
      ],
      "metadata": {
        "id": "v2IgZWwRIyGY"
      },
      "execution_count": 51,
      "outputs": []
    },
    {
      "cell_type": "code",
      "source": [
        "conn = sqlite3.connect(path_db)\n",
        "c = conn.cursor()\n",
        "c.execute(\"\"\"\n",
        "    SELECT DISTINCT s.sentence_id, s.sentence_text\n",
        "    FROM   Sentences  AS s\n",
        "    JOIN   Entities   AS e USING(sentence_id)\n",
        "    WHERE  e.entity_type IN ('STOCK', 'COMPANY')\n",
        "      AND  e.confidence  = 'high'\n",
        "    ORDER  BY s.sentence_id\n",
        "    LIMIT  20;\n",
        "\"\"\")\n",
        "rows = c.fetchall()\n",
        "for sid, text in rows:\n",
        "    score = score_sentence_v2(text)\n",
        "    label = label_from_score(score)\n",
        "    print(text, score, label)\n",
        "\n",
        "    # ---- (tuỳ chọn) cập nhật bảng ----\n",
        "    # cur.execute(\"\"\"\n",
        "    #     UPDATE Sentences\n",
        "    #     SET sentiment_score = ?, sentiment_label = ?\n",
        "    #     WHERE sentence_id   = ?;\n",
        "    # \"\"\", (score, label, sid))\n",
        "\n",
        "# conn.commit()   # ← bỏ comment nếu thực sự muốn ghi DB\n",
        "conn.close()"
      ],
      "metadata": {
        "colab": {
          "base_uri": "https://localhost:8080/"
        },
        "id": "6VaEvT1TI8M5",
        "outputId": "c3482b41-afa7-4f5c-f53e-0d1c853a6f49"
      },
      "execution_count": 52,
      "outputs": [
        {
          "output_type": "stream",
          "name": "stdout",
          "text": [
            "Con gái bầu Đức gom bất thành 4 triệu cp HAG vì không xoay được tiền. -2.0 negative\n",
            "Bà Đoàn Hoàng Anh, con gái ông Đoàn Nguyên Đức, không mua được bất kỳ cổ phiếu nào trong số 4 triệu cổ phiếu HAG đăng ký, do không thu xếp được tài chính cá nhân. -2.8 negative\n",
            "Theo công bố thông tin, bà Đoàn Hoàng Anh- con gái ông Đoàn Nguyên Đức(bầu Đức), Chủ tịch HĐQT CTCP Hoàng Anh Gia Lai (HAGL, HOSE:HAG)- không mua được cổ phiếu nào trong số 4 triệu cpHAG đăng ký từ ngày 14/04-13/05. -1.8 negative\n",
            "Sau giao dịch bất thành, bà Hoàng Anh vẫn giữ nguyên tỷ lệ sở hữu 1.32%, tương ứng 14 triệu cp HAG. -1.0 negative\n",
            "Trước đó, từ 30/12/2024-21/01/2025, bà đã mua thành công 1 triệu cpHAG qua khớp lệnh để nâng sở hữu như hiện tại. 2.8000000000000003 positive\n",
            "Hiện tại, ông Đoàn Nguyên Đức là cổ đông lớn nhất của HAGL với tỷ lệ nắm giữ 30.26%, tương đương gần 320 triệu cp. 0.0 neutral\n",
            "Tính chung cả gia đình bầu Đức đang nắm giữ gần 334 triệu cp HAG, chiếm khoảng 31.58% vốn điều lệ Công ty. 0.0 neutral\n",
            "Trên thị trường chứng khoán, cổ phiếu HAG hiện nằm trong diện bị cảnh báo. -1.8 negative\n",
            "Trước lo ngại này, Chủ tịchĐoàn Nguyên Đứcđã có thư gửi cổ đông, khẳng định hoạt động sản xuất và xuất khẩu của HAGL không bị ảnh hưởng. -0.20000000000000007 negative\n",
            "Công ty cho biết vẫn duy trì hoạt động sản xuất, xuất khẩu đều đặn, đồng thời khẳng định minh bạch thông tin và sẽ cập nhật kịp thời nếu có biến động đáng kể. -1.6 negative\n",
            "HAGL cũng vừa điều chỉnh thời gian tổ chức ĐHĐCĐ thường niên 2025 sang ngày 06/06 tại TPHCM, sớm hơn kế hoạch cũ là 18/06. -0.8 negative\n",
            "Công ty cho biết đã hoàn tất công tác chuẩn bị và cần sớm lựa chọn đơn vị kiểm toán để thực hiện soát xét BCTC bán niên 2025. 0.0 neutral\n",
            "Về kết quả kinh doanh quý 1/2025, doanh thu thuần của HAGL đạt gần 1, 380 tỷ đồng, tăng 11% so với cùng kỳ. 4.0 positive\n",
            "HAGL cho biết lợi nhuận gộp tăng chủ yếu nhờ hoạt động kinh doanh chuối. 1.0 positive\n",
            "HOSE tháng 4: Hầu hết chỉ số ngành giảm điểm, trừ bất động sản. -2.0 negative\n",
            "Kết thúc phiên giao dịch cuối tháng 4/2025, các chỉ số chính của Sở Giao dịch Chứng khoán TPHCM (HOSE) là VN-Index, VNA llshare và VN30 đều giảm điểm so với cuối tháng 3. -2.0 negative\n",
            "Các chỉ số ngành cũng hầu hết giảm điểm, ngoại trừ bất động sản. -2.0 negative\n",
            "Cụ thể, VN-Indexđạt 1, 226.3 điểm, VNA llshare 1, 277.47 điểm vàVN301, 309.73 điểm. 0.0 neutral\n",
            "Đối với các chỉ số ngành, ngoại trừ chỉ số ngành bất động sản (VNREAL) tăng 1.2%, các chỉ số ngành đều ghi nhận giảm điểm, tiêu biểu gồm ngành năng lượng (VNENE), công nghệ thông tin (VNIT) và nguyên vật liệu (VNMAT) giảm lần lượt là 17%, 10% và 8%. -1.0 negative\n",
            "Ở kênh chứng chỉ quỹ ETF, khối lượng giao dịch bình quân hơn 4.5 triệu ETF/ngày, tăng 76% và giá trị giao dịch bình quân hơn 107.5 tỷ đồng/ngày, tăng 64%. 2.0 positive\n"
          ]
        }
      ]
    },
    {
      "cell_type": "code",
      "source": [
        "def update_sentiments(db_path: str) -> None:\n",
        "    with sqlite3.connect(db_path) as conn:\n",
        "        cur = conn.cursor()\n",
        "\n",
        "        query = \"\"\"\n",
        "        SELECT DISTINCT s.sentence_id, s.sentence_text\n",
        "        FROM   Sentences AS s\n",
        "        JOIN   Entities  AS e ON e.sentence_id = s.sentence_id\n",
        "        WHERE  e.entity_type IN ('STOCK','COMPANY')\n",
        "          AND  e.confidence  = 'high';\n",
        "        \"\"\"\n",
        "        rows = cur.execute(query).fetchall()\n",
        "        print(f\"Đang cập nhật {len(rows):,} câu…\")\n",
        "\n",
        "        for sid, text in rows:\n",
        "            sc  = score_sentence_v2(text)\n",
        "            lab = label_from_score(sc)\n",
        "            cur.execute(\"\"\"UPDATE Sentences\n",
        "                           SET sentiment_score = ?,\n",
        "                               sentiment_label = ?\n",
        "                           WHERE sentence_id   = ?\"\"\",\n",
        "                        (sc, lab, sid))\n",
        "\n",
        "        conn.commit()\n",
        "        print(\"Hoàn tất cập nhật.\")"
      ],
      "metadata": {
        "id": "WHP1-s38Q3UJ"
      },
      "execution_count": 53,
      "outputs": []
    },
    {
      "cell_type": "code",
      "source": [
        "update_sentiments(path_db)"
      ],
      "metadata": {
        "colab": {
          "base_uri": "https://localhost:8080/"
        },
        "id": "DdDf_A6tRgsO",
        "outputId": "0797659f-dda0-4b93-81f3-f8c6d5ef9b7f"
      },
      "execution_count": 54,
      "outputs": [
        {
          "output_type": "stream",
          "name": "stdout",
          "text": [
            "Đang cập nhật 28,599 câu…\n",
            "Hoàn tất cập nhật.\n"
          ]
        }
      ]
    },
    {
      "cell_type": "code",
      "source": [
        "# import ace_tools as tools\n",
        "with sqlite3.connect(path_db) as conn:\n",
        "        df = pd.read_sql_query(\n",
        "            \"\"\"\n",
        "            SELECT sentence_id,\n",
        "                   sentiment_score,\n",
        "                   sentiment_label,\n",
        "                   sentence_text\n",
        "            FROM   Sentences\n",
        "            ORDER  BY sentence_id\n",
        "            LIMIT  10;\n",
        "            \"\"\", conn)\n",
        "print(df)"
      ],
      "metadata": {
        "colab": {
          "base_uri": "https://localhost:8080/"
        },
        "id": "6H_PlcnZTDlV",
        "outputId": "029abc2c-1625-4237-f113-a733a3df9a22"
      },
      "execution_count": 55,
      "outputs": [
        {
          "output_type": "stream",
          "name": "stdout",
          "text": [
            "   sentence_id  sentiment_score sentiment_label  \\\n",
            "0            1             -2.0        negative   \n",
            "1            2             -2.8        negative   \n",
            "2            3             -1.8        negative   \n",
            "3            4              NaN            None   \n",
            "4            5             -1.0        negative   \n",
            "5            6              2.8        positive   \n",
            "6            7              0.0         neutral   \n",
            "7            8              0.0         neutral   \n",
            "8            9             -1.8        negative   \n",
            "9           10              NaN            None   \n",
            "\n",
            "                                       sentence_text  \n",
            "0  Con gái bầu Đức gom bất thành 4 triệu cp HAG v...  \n",
            "1  Bà Đoàn Hoàng Anh, con gái ông Đoàn Nguyên Đức...  \n",
            "2  Theo công bố thông tin, bà Đoàn Hoàng Anh- con...  \n",
            "3  Lý do được đưa ra là không thu xếp được tài ch...  \n",
            "4  Sau giao dịch bất thành, bà Hoàng Anh vẫn giữ ...  \n",
            "5  Trước đó, từ 30/12/2024-21/01/2025, bà đã mua ...  \n",
            "6  Hiện tại, ông Đoàn Nguyên Đức là cổ đông lớn n...  \n",
            "7  Tính chung cả gia đình bầu Đức đang nắm giữ gầ...  \n",
            "8  Trên thị trường chứng khoán, cổ phiếu HAG hiện...  \n",
            "9  Thị giá đang giao dịch quanh mức 13, 300 đồng/...  \n"
          ]
        }
      ]
    }
  ]
}