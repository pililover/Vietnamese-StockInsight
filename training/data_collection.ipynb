{
 "cells": [
  {
   "cell_type": "markdown",
   "id": "6b350fd4",
   "metadata": {},
   "source": [
    "<div style=\"font-family: Arial, Helvetica, sans-serif;\">\n",
    "    <div style=\"display: flex;padding-top: 20px\">\n",
    "        <div><strong>Course:</strong> Statistical Learning</div>\n",
    "    </div>\n",
    "    <div style=\"display: flex;padding-top: 20px\">\n",
    "        <div style=\"padding-right: 10px;\"><strong>Class:</strong> 22CNTTh</div>\n",
    "        <div></div>\n",
    "    </div>\n",
    "    <div style=\"display: flex;padding-top: 20px\">\n",
    "        <div style=\"padding-right: 10px;\"><strong>Group:</strong> ...</div>\n",
    "    </div>\n",
    "    <div>\n",
    "        <div style=\"display: flex;padding-top: 20px\">\n",
    "            <div style=\"padding-right: 10px;\"><strong>Members:</strong></div>\n",
    "            <div></div>\n",
    "        </div>\n",
    "        <table style=\"font-size: 15px; display:flex;padding-top: 20px\">\n",
    "            <tr>\n",
    "                <th>No.</th>\n",
    "                <th>Student ID</th>\n",
    "                <th>Name</th>\n",
    "            </tr>\n",
    "            <tr>\n",
    "                <td>1</td>\n",
    "                <td> 22127004 </td>\n",
    "                <td style=\"text-align:left;\">Trình Cao An</td>\n",
    "            </tr>\n",
    "            <tr>\n",
    "                <td>2</td>\n",
    "                <td>22127014</td>\n",
    "                <td style=\"text-align:left;\">Nguyễn Kim Anh</td>\n",
    "            </tr>\n",
    "            <tr>\n",
    "                <td>3</td>\n",
    "                <td> 22127042 </td>\n",
    "                <td style=\"text-align:left;\">Võ Thị Kim Khôi</td>\n",
    "            </tr>\n",
    "        </table>\n",
    "    </div>\n",
    "    <div style=\"font-size: 25px ;font-weight: 800; text-align: center;padding-top: 20px;\">FINAL PROJECT</div>\n",
    "    <div style=\"font-size: 20px ;font-weight: 800; text-align: center;padding-top: 20px;\">VIETNAMESE STOCKINSIGHT - DATA COLLECTION</div>\n",
    "</div>"
   ]
  }
 ],
 "metadata": {
  "language_info": {
   "name": "python"
  }
 },
 "nbformat": 4,
 "nbformat_minor": 5
}
